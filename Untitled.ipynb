{
 "cells": [
  {
   "cell_type": "code",
   "execution_count": 42,
   "id": "929e98b9",
   "metadata": {},
   "outputs": [],
   "source": [
    "student1 = \"Max\"\n",
    "student2 = \"Monika\"\n",
    "student3 = \"Erik\"\n",
    "student4 = \"Franziska\""
   ]
  },
  {
   "cell_type": "code",
   "execution_count": 46,
   "id": "e32f6baa",
   "metadata": {},
   "outputs": [
    {
     "ename": "TypeError",
     "evalue": "'str' object is not callable",
     "output_type": "error",
     "traceback": [
      "\u001b[1;31m---------------------------------------------------------------------------\u001b[0m",
      "\u001b[1;31mTypeError\u001b[0m                                 Traceback (most recent call last)",
      "Input \u001b[1;32mIn [46]\u001b[0m, in \u001b[0;36m<cell line: 3>\u001b[1;34m()\u001b[0m\n\u001b[0;32m      1\u001b[0m students \u001b[38;5;241m=\u001b[39m [\u001b[38;5;124m\"\u001b[39m\u001b[38;5;124mMax\u001b[39m\u001b[38;5;124m\"\u001b[39m, \u001b[38;5;124m\"\u001b[39m\u001b[38;5;124mMonika\u001b[39m\u001b[38;5;124m\"\u001b[39m, \u001b[38;5;124m\"\u001b[39m\u001b[38;5;124mErik\u001b[39m\u001b[38;5;124m\"\u001b[39m, \u001b[38;5;124m\"\u001b[39m\u001b[38;5;124mFranziska\u001b[39m\u001b[38;5;124m\"\u001b[39m]\n\u001b[1;32m----> 3\u001b[0m \u001b[38;5;28;43mprint\u001b[39;49m\u001b[43m(\u001b[49m\u001b[43mstudents\u001b[49m\u001b[43m)\u001b[49m\n",
      "\u001b[1;31mTypeError\u001b[0m: 'str' object is not callable"
     ]
    }
   ],
   "source": [
    "students = [\"Max\", \"Monika\", \"Erik\", \"Franziska\"]\n",
    "\n",
    "print(students)"
   ]
  },
  {
   "cell_type": "code",
   "execution_count": 1,
   "id": "b31e864b",
   "metadata": {},
   "outputs": [
    {
     "name": "stdout",
     "output_type": "stream",
     "text": [
      "Die Zahl ist keliner als 42\n"
     ]
    }
   ],
   "source": [
    "n = 13\n",
    "if n < 42:\n",
    "    print(\"Die Zahl ist keliner als 42\")"
   ]
  },
  {
   "cell_type": "code",
   "execution_count": 3,
   "id": "2c20fe9f",
   "metadata": {},
   "outputs": [],
   "source": [
    "n = 12\n",
    "if n > 42:\n",
    "    print(\"Die Zahl ist groesser als 42\")"
   ]
  }
 ],
 "metadata": {
  "kernelspec": {
   "display_name": "Python 3.9.12 ('base')",
   "language": "python",
   "name": "python3"
  },
  "language_info": {
   "codemirror_mode": {
    "name": "ipython",
    "version": 3
   },
   "file_extension": ".py",
   "mimetype": "text/x-python",
   "name": "python",
   "nbconvert_exporter": "python",
   "pygments_lexer": "ipython3",
   "version": "3.9.12"
  },
  "vscode": {
   "interpreter": {
    "hash": "3e3768d205fda101700075f29ad3f6ddab5b864ac3d82600c1710cf5c8c23fd0"
   }
  }
 },
 "nbformat": 4,
 "nbformat_minor": 5
}
