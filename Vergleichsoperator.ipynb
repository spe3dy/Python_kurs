{
 "cells": [
  {
   "cell_type": "code",
   "execution_count": 2,
   "metadata": {},
   "outputs": [
    {
     "name": "stdout",
     "output_type": "stream",
     "text": [
      "['Max', 'Lisa 2', 'Moritz', 'Eva']\n"
     ]
    }
   ],
   "source": [
    "students = [\"Max\", \"Lisa\", \"Moritz\", \"Eva\"]\n",
    "\n",
    "\n",
    "for i in range(0, len(students)):\n",
    "    if students[i] == \"Lisa\": # Hier wird gefragt, ob es einen Eintrag Lisa gibt ( suchen )\n",
    "        students[i] = \"Lisa 2\" # Hier wird der Eintrag von Lisa auf Lisa 2 geaendert ( ersetzen )\n",
    "\n",
    "print (students)"
   ]
  },
  {
   "cell_type": "code",
   "execution_count": null,
   "metadata": {},
   "outputs": [],
   "source": []
  }
 ],
 "metadata": {
  "kernelspec": {
   "display_name": "Python 3.9.12 ('base')",
   "language": "python",
   "name": "python3"
  },
  "language_info": {
   "codemirror_mode": {
    "name": "ipython",
    "version": 3
   },
   "file_extension": ".py",
   "mimetype": "text/x-python",
   "name": "python",
   "nbconvert_exporter": "python",
   "pygments_lexer": "ipython3",
   "version": "3.9.12"
  },
  "orig_nbformat": 4,
  "vscode": {
   "interpreter": {
    "hash": "3e3768d205fda101700075f29ad3f6ddab5b864ac3d82600c1710cf5c8c23fd0"
   }
  }
 },
 "nbformat": 4,
 "nbformat_minor": 2
}
