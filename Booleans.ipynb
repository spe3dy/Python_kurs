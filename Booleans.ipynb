{
 "cells": [
  {
   "cell_type": "code",
   "execution_count": 8,
   "metadata": {},
   "outputs": [
    {
     "name": "stdout",
     "output_type": "stream",
     "text": [
      "Die Person ist in den 30-igern\n"
     ]
    }
   ],
   "source": [
    "age = 35\n",
    "\n",
    "if age >= 30:\n",
    "    if age <= 39:print(\"Die Person ist in den 30-igern\")"
   ]
  },
  {
   "cell_type": "code",
   "execution_count": 11,
   "metadata": {},
   "outputs": [
    {
     "name": "stdout",
     "output_type": "stream",
     "text": [
      "Die Person ist in den 30-igern\n"
     ]
    }
   ],
   "source": [
    "age = 35\n",
    "\n",
    "if age >= 30 or age <= 39:\n",
    "    print(\"Die Person ist in den 30-igern\")"
   ]
  },
  {
   "cell_type": "code",
   "execution_count": 10,
   "metadata": {},
   "outputs": [
    {
     "name": "stdout",
     "output_type": "stream",
     "text": [
      "Diese Person ist nicht in den 30-igern\n"
     ]
    }
   ],
   "source": [
    "age = 25\n",
    "if age > 30 and age <= 40:\n",
    "    print(\"Diese Person ist in den 30-igern\")\n",
    "else:\n",
    "    print(\"Diese Person ist nicht in den 30-igern\")"
   ]
  },
  {
   "cell_type": "code",
   "execution_count": 22,
   "metadata": {},
   "outputs": [
    {
     "name": "stdout",
     "output_type": "stream",
     "text": [
      "Diese Person darf keinen Alkhol trinken\n"
     ]
    }
   ],
   "source": [
    "country = \"US\"\n",
    "age = 20\n",
    "\n",
    "if (country == \"US\" and age >=21) or (country != \"US\" and age >= 18):\n",
    "    print(\"Diese Person darf Alkohol trinken\")\n",
    "else:\n",
    "    print(\"Diese Person darf keinen Alkhol trinken\")"
   ]
  },
  {
   "cell_type": "code",
   "execution_count": 23,
   "metadata": {},
   "outputs": [
    {
     "name": "stdout",
     "output_type": "stream",
     "text": [
      "True\n",
      "False\n"
     ]
    }
   ],
   "source": [
    "students = [\"Max\", \"Monika\", \"Erik\", \"Franziska\"]\n",
    "\n",
    "print(\"Monika\" in students)\n",
    "print(\"Moritz\" in students)"
   ]
  },
  {
   "cell_type": "code",
   "execution_count": 28,
   "metadata": {},
   "outputs": [
    {
     "name": "stdout",
     "output_type": "stream",
     "text": [
      "Ja die Studiert hier\n"
     ]
    }
   ],
   "source": [
    "if \"Monika\" in students:\n",
    "    print (\"Ja die Studiert hier\")\n",
    "if \"Moritz\" in students:\n",
    "    print (\"ja der studiert hier\")"
   ]
  },
  {
   "cell_type": "code",
   "execution_count": 32,
   "metadata": {},
   "outputs": [
    {
     "name": "stdout",
     "output_type": "stream",
     "text": [
      "JA\n"
     ]
    }
   ],
   "source": [
    "sentence =\"Ja, die Monika studiert hier!\"\n",
    "\n",
    "if \"!\" in sentence:\n",
    "    print(\"JA\")\n",
    "else: \n",
    "    print(\"Nein\")"
   ]
  },
  {
   "cell_type": "code",
   "execution_count": 50,
   "metadata": {},
   "outputs": [
    {
     "name": "stdout",
     "output_type": "stream",
     "text": [
      "Euro\n"
     ]
    }
   ],
   "source": [
    "currency = \"€\"\n",
    "\n",
    "if currency == \"$\":\n",
    "    print(\"US-Dollar\")\n",
    "else:\n",
    "    if currency == \"¥\":\n",
    "        print(\"Japanischer Yen\")\n",
    "    else:\n",
    "        if currency == \"฿\":\n",
    "           print(\"Thai Bath\")\n",
    "        else: \n",
    "            if currency == \"€\":\n",
    "               print(\"Euro\")\n",
    "\n"
   ]
  },
  {
   "cell_type": "code",
   "execution_count": 1,
   "metadata": {},
   "outputs": [
    {
     "name": "stdout",
     "output_type": "stream",
     "text": [
      "Euro\n"
     ]
    }
   ],
   "source": [
    "currency = \"€\"\n",
    "\n",
    "if currency == \"$\":\n",
    "    print(\"US-Dollar\")\n",
    "elif currency == \"¥\":\n",
    "    print(\"Japanischer Yen\")\n",
    "elif currency == \"฿\":\n",
    "     print(\"Thai Bath\")\n",
    "elif currency == \"€\":\n",
    "    print(\"Euro\")\n",
    "elif currency == \"§\":\n",
    "    print(\"Paragraph\")"
   ]
  },
  {
   "cell_type": "code",
   "execution_count": null,
   "metadata": {},
   "outputs": [],
   "source": []
  }
 ],
 "metadata": {
  "kernelspec": {
   "display_name": "Python 3.9.7 ('base')",
   "language": "python",
   "name": "python3"
  },
  "language_info": {
   "codemirror_mode": {
    "name": "ipython",
    "version": 3
   },
   "file_extension": ".py",
   "mimetype": "text/x-python",
   "name": "python",
   "nbconvert_exporter": "python",
   "pygments_lexer": "ipython3",
   "version": "3.9.7"
  },
  "orig_nbformat": 4,
  "vscode": {
   "interpreter": {
    "hash": "dc8d9d615f3307ae9223c93e1b31da2159d03c40ca566f92683dce0c6d484486"
   }
  }
 },
 "nbformat": 4,
 "nbformat_minor": 2
}
