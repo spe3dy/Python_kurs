{
 "cells": [
  {
   "cell_type": "code",
   "execution_count": 14,
   "metadata": {},
   "outputs": [
    {
     "name": "stdout",
     "output_type": "stream",
     "text": [
      "Id,Name,Year,Gender,State,Count\n",
      "\n",
      "1,Mary,1910,F,AK,14\n",
      "\n",
      "2,Annie,1910,F,AK,12\n",
      "\n",
      "3,Anna,1910,F,AK,10\n",
      "\n"
     ]
    }
   ],
   "source": [
    "with open(\"data/names.csv\", \"r\") as file:\n",
    "    counter = 0\n",
    "    for line in file:\n",
    "        counter = counter +1\n",
    "        print(line)\n",
    "\n",
    "        if counter >= 4:\n",
    "            break"
   ]
  },
  {
   "cell_type": "code",
   "execution_count": 13,
   "metadata": {},
   "outputs": [],
   "source": [
    "#xs = []\n",
    "#ys = []\n",
    "\n",
    "name = \"Anna\"\n",
    "gender = \"F\"\n",
    "state = \"CA\"\n",
    "\n",
    "with open(\"data/names.csv\", \"r\") as file:\n",
    "    counter = 0\n",
    "    for line in file:\n",
    "        counter = counter + 1 \n",
    "\n",
    "        line_splitted = line.strip().split(\",\")\n",
    "        if line_splitted[1] == name and line_splitted[3] == gender and line_splitted[4] == state:\n",
    "           print(line_splitted)\n",
    "           break"
   ]
  },
  {
   "cell_type": "code",
   "execution_count": 16,
   "metadata": {},
   "outputs": [
    {
     "name": "stdout",
     "output_type": "stream",
     "text": [
      "[]\n",
      "[]\n"
     ]
    }
   ],
   "source": [
    "# Das ist der Originale Quellcode aus dem Video. Ich habe lediglich den Link zur csv Datei angepasst.\n",
    "# Das Script laeuft zwar durch, gibt keine keine Ausgabe.\n",
    "#xs = []\n",
    "#ys = []\n",
    "\n",
    "name = \"Anna\"\n",
    "gender = \"F\"\n",
    "state = \"CA\"\n",
    "\n",
    "with open(\"data/names.csv\", \"r\") as file:\n",
    "    counter = 0\n",
    "    for line in file:\n",
    "        counter = counter + 1\n",
    "        \n",
    "        line_splitted = line.strip().split(\",\")\n",
    "        if line_splitted[1] == name and line_splitted[3] == gender and line_splitted[4] == state:\n",
    "            xs.append(line_splitted[2])\n",
    "            ys.append(line_splitted[5])\n",
    "            print(line_splitted)\n",
    "            break\n",
    "            \n",
    "print(xs)\n",
    "print(ys)\n",
    "# 12345,Anna,1910,F,CA,999\n",
    "# 32345,Anna,1911,F,CA,555"
   ]
  },
  {
   "cell_type": "code",
   "execution_count": null,
   "metadata": {},
   "outputs": [],
   "source": []
  }
 ],
 "metadata": {
  "kernelspec": {
   "display_name": "Python 3.9.7 ('base')",
   "language": "python",
   "name": "python3"
  },
  "language_info": {
   "codemirror_mode": {
    "name": "ipython",
    "version": 3
   },
   "file_extension": ".py",
   "mimetype": "text/x-python",
   "name": "python",
   "nbconvert_exporter": "python",
   "pygments_lexer": "ipython3",
   "version": "3.9.7"
  },
  "orig_nbformat": 4,
  "vscode": {
   "interpreter": {
    "hash": "dc8d9d615f3307ae9223c93e1b31da2159d03c40ca566f92683dce0c6d484486"
   }
  }
 },
 "nbformat": 4,
 "nbformat_minor": 2
}
