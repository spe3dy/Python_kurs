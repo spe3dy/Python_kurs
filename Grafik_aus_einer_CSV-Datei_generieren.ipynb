{
 "cells": [
  {
   "cell_type": "code",
   "execution_count": 14,
   "metadata": {},
   "outputs": [
    {
     "name": "stdout",
     "output_type": "stream",
     "text": [
      "Id,Name,Year,Gender,State,Count\n",
      "\n",
      "1,Mary,1910,F,AK,14\n",
      "\n",
      "2,Annie,1910,F,AK,12\n",
      "\n",
      "3,Anna,1910,F,AK,10\n",
      "\n"
     ]
    }
   ],
   "source": [
    "with open(\"data/names.csv\", \"r\") as file:\n",
    "    counter = 0\n",
    "    for line in file:\n",
    "        counter = counter +1\n",
    "        print(line)\n",
    "\n",
    "        if counter >= 4:\n",
    "            break"
   ]
  },
  {
   "cell_type": "code",
   "execution_count": 30,
   "metadata": {},
   "outputs": [
    {
     "name": "stdout",
     "output_type": "stream",
     "text": [
      "['3', 'Anna', '1910', 'F', 'AK', '10']\n"
     ]
    }
   ],
   "source": [
    "xs = []\n",
    "ys = []\n",
    "\n",
    "name = \"Anna\"\n",
    "gender = \"F\"\n",
    "state = \"AK\"\n",
    "\n",
    "with open(\"data/names.csv\", \"r\") as file:\n",
    "    counter = 0\n",
    "    for line in file:\n",
    "        counter = counter + 1 \n",
    "\n",
    "        line_splitted = line.strip().split(\",\")\n",
    "        #print(f\"hier ist das erste mal Line Splitted: \",line_splitted )\n",
    "        \n",
    "        if line_splitted[1] == name and line_splitted[3] == gender and line_splitted[4] == state: # hier wird angegeben, wo bei der die Trennung stattfindet\n",
    "            print(line_splitted)\n",
    "            break"
   ]
  },
  {
   "cell_type": "code",
   "execution_count": 13,
   "metadata": {},
   "outputs": [
    {
     "name": "stdout",
     "output_type": "stream",
     "text": [
      "['1910', '1912', '1915', '1916']\n",
      "['10', '7', '10', '7']\n"
     ]
    }
   ],
   "source": [
    "xs = []\n",
    "ys = []\n",
    "\n",
    "name = \"Anna\"\n",
    "gender = \"F\"\n",
    "state = \"AK\"\n",
    "\n",
    "with open(\"data/names.csv\", \"r\") as file:\n",
    "    counter = 0\n",
    "    for line in file:\n",
    "        counter = counter + 1 \n",
    "\n",
    "        line_splitted = line.strip().split(\",\")\n",
    "        #print(f\"hier ist das erste mal Line Splitted: \",line_splitted ) #Der Print wurde zwecks Fehlersuche eingepflegt\n",
    "        \n",
    "        if line_splitted[1] == name and line_splitted[3] == gender and line_splitted[4] == state: # hier wird angegeben, wo bei der die Trennung stattfindet\n",
    "            xs.append(line_splitted[2])\n",
    "            ys.append(line_splitted[5])\n",
    "            #print(line_splitted)\n",
    "            #break\n",
    "\n",
    "print(xs)\n",
    "print(ys)"
   ]
  },
  {
   "cell_type": "code",
   "execution_count": 12,
   "metadata": {},
   "outputs": [
    {
     "data": {
      "image/png": "[encoded data removed]",
      "text/plain": [
       "<Figure size 432x288 with 1 Axes>"
      ]
     },
     "metadata": {
      "needs_background": "light"
     },
     "output_type": "display_data"
    }
   ],
   "source": [
    "%matplotlib inline\n",
    "import matplotlib.pyplot as plt\n",
    "\n",
    "\n",
    "plt.plot(xs, ys)\n",
    "plt.show()"
   ]
  },
  {
   "cell_type": "code",
   "execution_count": null,
   "metadata": {},
   "outputs": [],
   "source": []
  }
 ],
 "metadata": {
  "kernelspec": {
   "display_name": "Python 3.9.12 ('base')",
   "language": "python",
   "name": "python3"
  },
  "language_info": {
   "codemirror_mode": {
    "name": "ipython",
    "version": 3
   },
   "file_extension": ".py",
   "mimetype": "text/x-python",
   "name": "python",
   "nbconvert_exporter": "python",
   "pygments_lexer": "ipython3",
   "version": "3.9.12"
  },
  "orig_nbformat": 4,
  "vscode": {
   "interpreter": {
    "hash": "3e3768d205fda101700075f29ad3f6ddab5b864ac3d82600c1710cf5c8c23fd0"
   }
  }
 },
 "nbformat": 4,
 "nbformat_minor": 2
}
