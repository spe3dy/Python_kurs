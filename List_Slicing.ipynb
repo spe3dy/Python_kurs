{
 "cells": [
  {
   "cell_type": "code",
   "execution_count": 12,
   "metadata": {},
   "outputs": [],
   "source": [
    "students = [\"Max\" , \"Monika\", \"Erik\", \"Franziska\", \"Chantal\"]"
   ]
  },
  {
   "cell_type": "code",
   "execution_count": 18,
   "metadata": {},
   "outputs": [
    {
     "name": "stdout",
     "output_type": "stream",
     "text": [
      "Monika\n",
      "Chantal\n"
     ]
    }
   ],
   "source": [
    "print(students[-4])\n",
    "print(students[-1])"
   ]
  },
  {
   "cell_type": "code",
   "execution_count": 20,
   "metadata": {},
   "outputs": [],
   "source": [
    "# List Slicing"
   ]
  },
  {
   "cell_type": "code",
   "execution_count": 25,
   "metadata": {},
   "outputs": [
    {
     "name": "stdout",
     "output_type": "stream",
     "text": [
      "['Erik', 'Franziska']\n"
     ]
    }
   ],
   "source": [
    "print(students[2:4])"
   ]
  },
  {
   "cell_type": "code",
   "execution_count": 27,
   "metadata": {},
   "outputs": [
    {
     "name": "stdout",
     "output_type": "stream",
     "text": [
      "['Monika', 'Erik', 'Franziska']\n"
     ]
    }
   ],
   "source": [
    "print(students[1:-1])"
   ]
  },
  {
   "cell_type": "code",
   "execution_count": 37,
   "metadata": {},
   "outputs": [
    {
     "name": "stdout",
     "output_type": "stream",
     "text": [
      "['Max', 'Monika', 'Erik', 'Franziska']\n",
      "['Max', 'Monika', 'Erik', 'Franziska']\n"
     ]
    }
   ],
   "source": [
    "print(students[0:-1])\n",
    "print(students[:-1])\n",
    "### Hier wird angegeben, welche Studenten angezeigt werden sollen. Die schreibweise dabei ist egal"
   ]
  },
  {
   "cell_type": "code",
   "execution_count": 39,
   "metadata": {},
   "outputs": [
    {
     "name": "stdout",
     "output_type": "stream",
     "text": [
      "['Monika', 'Erik', 'Franziska', 'Chantal']\n"
     ]
    }
   ],
   "source": [
    "print(students[1:])"
   ]
  },
  {
   "cell_type": "code",
   "execution_count": 50,
   "metadata": {},
   "outputs": [
    {
     "name": "stdout",
     "output_type": "stream",
     "text": [
      "Welt\n",
      "Welt123\n"
     ]
    }
   ],
   "source": [
    "### List Slicing funktioniert auch auf Strings!\n",
    "\n",
    "print(\"Hallo Welt\"[6:10]) # Bei der ersten Zahl setzt man fest, wo er anfangen soll zu Zaehlen. Mit der 2. Zahl gebe ich an wo er Aufhoeren soll. \n",
    "print(\"Hallo Welt123\"[6:]) # Ich kann auch \"[6:]\" eintragen, dann listet er alles auf AB dem 6 Buchstaben"
   ]
  }
 ],
 "metadata": {
  "kernelspec": {
   "display_name": "Python 3.9.7 ('base')",
   "language": "python",
   "name": "python3"
  },
  "language_info": {
   "codemirror_mode": {
    "name": "ipython",
    "version": 3
   },
   "file_extension": ".py",
   "mimetype": "text/x-python",
   "name": "python",
   "nbconvert_exporter": "python",
   "pygments_lexer": "ipython3",
   "version": "3.9.7"
  },
  "orig_nbformat": 4,
  "vscode": {
   "interpreter": {
    "hash": "dc8d9d615f3307ae9223c93e1b31da2159d03c40ca566f92683dce0c6d484486"
   }
  }
 },
 "nbformat": 4,
 "nbformat_minor": 2
}
