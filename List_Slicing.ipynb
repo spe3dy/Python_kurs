{
 "cells": [
  {
   "cell_type": "code",
<<<<<<< HEAD
   "execution_count": 12,
   "metadata": {},
   "outputs": [],
   "source": [
    "students = [\"Max\" , \"Monika\", \"Erik\", \"Franziska\", \"Chantal\"]"
=======
   "execution_count": 4,
   "metadata": {},
   "outputs": [
    {
     "name": "stdout",
     "output_type": "stream",
     "text": [
      "Klaus\n",
      "Erika\n"
     ]
    }
   ],
   "source": [
    "students = [\"Max\", \"Erika\", \"Claudia\", \"Sophie\", \"Klaus\"]\n",
    "print(students[-1]) # mit [-1] faengt er von hinten an zu Zaehlen\n",
    "print(students[1])"
   ]
  },
  {
   "cell_type": "code",
   "execution_count": 12,
   "metadata": {},
   "outputs": [
    {
     "name": "stdout",
     "output_type": "stream",
     "text": [
      "['Erika', 'Claudia', 'Sophie']\n"
     ]
    }
   ],
   "source": [
    "#print(students[2:]) #mit [1:] legt man fest, an welcher Stelle der anfangen soll zu Zaehlen\n",
    "print(students[1:-1]) # hier wird gesagt, welchen Teil der Liste er anzeigen soll"
>>>>>>> 12ea77083f830c594f738282073c81114254c02d
   ]
  },
  {
   "cell_type": "code",
<<<<<<< HEAD
   "execution_count": 18,
=======
   "execution_count": 13,
>>>>>>> 12ea77083f830c594f738282073c81114254c02d
   "metadata": {},
   "outputs": [
    {
     "name": "stdout",
     "output_type": "stream",
     "text": [
<<<<<<< HEAD
      "Monika\n",
      "Chantal\n"
=======
      "Hallo \n"
>>>>>>> 12ea77083f830c594f738282073c81114254c02d
     ]
    }
   ],
   "source": [
<<<<<<< HEAD
    "print(students[-4])\n",
    "print(students[-1])"
=======
    "print(\"Hallo Welt\"[:-4])"
>>>>>>> 12ea77083f830c594f738282073c81114254c02d
   ]
  },
  {
   "cell_type": "code",
<<<<<<< HEAD
   "execution_count": 20,
   "metadata": {},
   "outputs": [],
   "source": [
    "# List Slicing"
   ]
  },
  {
   "cell_type": "code",
   "execution_count": 25,
   "metadata": {},
   "outputs": [
    {
     "name": "stdout",
     "output_type": "stream",
     "text": [
      "['Erik', 'Franziska']\n"
     ]
    }
   ],
   "source": [
    "print(students[2:4])"
   ]
  },
  {
   "cell_type": "code",
   "execution_count": 27,
   "metadata": {},
   "outputs": [
    {
     "name": "stdout",
     "output_type": "stream",
     "text": [
      "['Monika', 'Erik', 'Franziska']\n"
     ]
    }
   ],
   "source": [
    "print(students[1:-1])"
   ]
  },
  {
   "cell_type": "code",
   "execution_count": 37,
   "metadata": {},
   "outputs": [
    {
     "name": "stdout",
     "output_type": "stream",
     "text": [
      "['Max', 'Monika', 'Erik', 'Franziska']\n",
      "['Max', 'Monika', 'Erik', 'Franziska']\n"
     ]
    }
   ],
   "source": [
    "print(students[0:-1])\n",
    "print(students[:-1])\n",
    "### Hier wird angegeben, welche Studenten angezeigt werden sollen. Die schreibweise dabei ist egal"
   ]
  },
  {
   "cell_type": "code",
   "execution_count": 39,
   "metadata": {},
   "outputs": [
    {
     "name": "stdout",
     "output_type": "stream",
     "text": [
      "['Monika', 'Erik', 'Franziska', 'Chantal']\n"
     ]
    }
   ],
   "source": [
    "print(students[1:])"
   ]
  },
  {
   "cell_type": "code",
   "execution_count": 50,
   "metadata": {},
   "outputs": [
    {
     "name": "stdout",
     "output_type": "stream",
     "text": [
      "Welt\n",
      "Welt123\n"
     ]
    }
   ],
   "source": [
    "### List Slicing funktioniert auch auf Strings!\n",
    "\n",
    "print(\"Hallo Welt\"[6:10]) # Bei der ersten Zahl setzt man fest, wo er anfangen soll zu Zaehlen. Mit der 2. Zahl gebe ich an wo er Aufhoeren soll. \n",
    "print(\"Hallo Welt123\"[6:]) # Ich kann auch \"[6:]\" eintragen, dann listet er alles auf AB dem 6 Buchstaben"
   ]
=======
   "execution_count": 14,
   "metadata": {},
   "outputs": [
    {
     "name": "stdout",
     "output_type": "stream",
     "text": [
      "Welt\n"
     ]
    }
   ],
   "source": [
    "print(\"Hallo Welt\"[-4:])"
   ]
  },
  {
   "cell_type": "code",
   "execution_count": null,
   "metadata": {},
   "outputs": [],
   "source": []
>>>>>>> 12ea77083f830c594f738282073c81114254c02d
  }
 ],
 "metadata": {
  "kernelspec": {
<<<<<<< HEAD
   "display_name": "Python 3.9.7 ('base')",
=======
   "display_name": "Python 3.9.12 ('base')",
>>>>>>> 12ea77083f830c594f738282073c81114254c02d
   "language": "python",
   "name": "python3"
  },
  "language_info": {
   "codemirror_mode": {
    "name": "ipython",
    "version": 3
   },
   "file_extension": ".py",
   "mimetype": "text/x-python",
   "name": "python",
   "nbconvert_exporter": "python",
   "pygments_lexer": "ipython3",
<<<<<<< HEAD
   "version": "3.9.7"
=======
   "version": "3.9.12"
>>>>>>> 12ea77083f830c594f738282073c81114254c02d
  },
  "orig_nbformat": 4,
  "vscode": {
   "interpreter": {
<<<<<<< HEAD
    "hash": "dc8d9d615f3307ae9223c93e1b31da2159d03c40ca566f92683dce0c6d484486"
=======
    "hash": "3e3768d205fda101700075f29ad3f6ddab5b864ac3d82600c1710cf5c8c23fd0"
>>>>>>> 12ea77083f830c594f738282073c81114254c02d
   }
  }
 },
 "nbformat": 4,
 "nbformat_minor": 2
}
