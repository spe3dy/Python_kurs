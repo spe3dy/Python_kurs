{
 "cells": [
  {
   "cell_type": "code",
   "execution_count": 1,
   "id": "c75fa18e",
   "metadata": {},
   "outputs": [
    {
     "name": "stdout",
     "output_type": "stream",
     "text": [
      "['Max', 'Monika', 'Erik', 'Franziska']\n"
     ]
    }
   ],
   "source": [
    "students = [\"Max\", \"Monika\", \"Erik\", \"Franziska\"]\n",
    "\n",
    "print(students)"
   ]
  },
  {
   "cell_type": "code",
   "execution_count": 2,
   "id": "a1994b4e",
   "metadata": {},
   "outputs": [],
   "source": [
    "students.append(\"Moritz\")"
   ]
  },
  {
   "cell_type": "code",
   "execution_count": 3,
   "id": "ea210d00",
   "metadata": {},
   "outputs": [
    {
     "name": "stdout",
     "output_type": "stream",
     "text": [
      "['Max', 'Monika', 'Erik', 'Franziska', 'Moritz']\n"
     ]
    }
   ],
   "source": [
    "print(students)"
   ]
  },
  {
   "cell_type": "code",
   "execution_count": 8,
   "id": "af4931f3",
   "metadata": {},
   "outputs": [
    {
     "name": "stdout",
     "output_type": "stream",
     "text": [
      "5\n"
     ]
    }
   ],
   "source": [
    "print(len(students))"
   ]
  },
  {
   "cell_type": "code",
   "execution_count": 9,
   "id": "11a40d29",
   "metadata": {},
   "outputs": [
    {
     "name": "stdout",
     "output_type": "stream",
     "text": [
      "Max\n"
     ]
    }
   ],
   "source": [
    "print(students[0])"
   ]
  },
  {
   "cell_type": "code",
   "execution_count": 18,
   "id": "6e29b603",
   "metadata": {},
   "outputs": [
    {
     "name": "stdout",
     "output_type": "stream",
     "text": [
      "Max\n",
      "Moritz\n"
     ]
    }
   ],
   "source": [
    "print(students[0])\n",
    "print(students[4])"
   ]
  },
  {
   "cell_type": "code",
   "execution_count": 17,
   "id": "5fd4ab35",
   "metadata": {},
   "outputs": [
    {
     "name": "stdout",
     "output_type": "stream",
     "text": [
      "Max & Moritz\n"
     ]
    }
   ],
   "source": [
    "print(students[0] + \" & \" + students[4])"
   ]
  },
  {
   "cell_type": "code",
   "execution_count": 22,
   "id": "378ede35",
   "metadata": {},
   "outputs": [
    {
     "name": "stdout",
     "output_type": "stream",
     "text": [
      "9\n"
     ]
    }
   ],
   "source": [
    "planets =[\"Merkur\", \"Venus\", \"Erde\", \"Mars\", \"Jupiter\", \"Saturn\", \"Uranus\", \"Neptun\", \"Pluto\"]\n",
    "print(len(planets))"
   ]
  },
  {
   "cell_type": "code",
   "execution_count": 23,
   "id": "e468c243",
   "metadata": {},
   "outputs": [
    {
     "data": {
      "text/plain": [
       "'Pluto'"
      ]
     },
     "execution_count": 23,
     "metadata": {},
     "output_type": "execute_result"
    }
   ],
   "source": [
    "planets.pop()"
   ]
  },
  {
   "cell_type": "code",
   "execution_count": 25,
   "id": "2af83ec1",
   "metadata": {},
   "outputs": [
    {
     "name": "stdout",
     "output_type": "stream",
     "text": [
      "8\n"
     ]
    }
   ],
   "source": [
    "print(len(planets))"
   ]
  },
  {
   "cell_type": "code",
   "execution_count": 27,
   "id": "b01da8ef",
   "metadata": {},
   "outputs": [],
   "source": [
    "planets.append(\"Pluto\")"
   ]
  },
  {
   "cell_type": "code",
   "execution_count": 28,
   "id": "bbc9f6f5",
   "metadata": {},
   "outputs": [
    {
     "name": "stdout",
     "output_type": "stream",
     "text": [
      "Pluto\n"
     ]
    }
   ],
   "source": [
    "p = planets.pop()\n",
    "print(p)"
   ]
  },
  {
   "cell_type": "code",
   "execution_count": null,
   "id": "31d10527",
   "metadata": {},
   "outputs": [],
   "source": []
  }
 ],
 "metadata": {
  "kernelspec": {
   "display_name": "Python 3.9.12 ('base')",
   "language": "python",
   "name": "python3"
  },
  "language_info": {
   "codemirror_mode": {
    "name": "ipython",
    "version": 3
   },
   "file_extension": ".py",
   "mimetype": "text/x-python",
   "name": "python",
   "nbconvert_exporter": "python",
   "pygments_lexer": "ipython3",
   "version": "3.9.12"
  },
  "vscode": {
   "interpreter": {
    "hash": "3e3768d205fda101700075f29ad3f6ddab5b864ac3d82600c1710cf5c8c23fd0"
   }
  }
 },
 "nbformat": 4,
 "nbformat_minor": 5
}
