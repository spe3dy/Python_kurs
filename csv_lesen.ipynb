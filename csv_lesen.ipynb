{
 "cells": [
  {
   "cell_type": "code",
   "execution_count": 4,
   "metadata": {},
   "outputs": [
    {
     "name": "stdout",
     "output_type": "stream",
     "text": [
      "BER\n",
      "['Berlin', '300000', 'BER']\n",
      "BUD\n",
      "['Budapest', '200000', 'BUD']\n"
     ]
    }
   ],
   "source": [
    "with open(\"datei.csv\") as file:\n",
    "    for line in file:\n",
    "        data = line.strip().split(\";\")\n",
    "        if data[2] == \"BER\" or data[2] == \"BUD\": # hier wird beschrieben, welche Daten angezeigt werden sollen.\n",
    "            print(data[2])\n",
    "            print(data)"
   ]
  },
  {
   "cell_type": "code",
   "execution_count": 15,
   "metadata": {},
   "outputs": [
    {
     "name": "stdout",
     "output_type": "stream",
     "text": [
      "['Berlin', '300000', 'BER']\n"
     ]
    }
   ],
   "source": [
    "with open(\"datei.csv\") as file:\n",
    "    for line in file:\n",
    "        data = line.strip().split(\";\") # hier setzten wir einen Split um \";\" zu filtern.\n",
    "\n",
    "        if int(data[1]) < 200000: # hier setzen wir einen Filter alles was kleiner als < 200000 ist wird angezeigt. \n",
    "            continue\n",
    "\n",
    "        if data[2] == \"BUD\": # Hier setzen wir einen erneuten Filter.\n",
    "            continue\n",
    "\n",
    "        print(data)\n",
    "\n",
    "        "
   ]
  },
  {
   "cell_type": "code",
   "execution_count": null,
   "metadata": {},
   "outputs": [],
   "source": []
  }
 ],
 "metadata": {
  "kernelspec": {
   "display_name": "Python 3.9.12 ('base')",
   "language": "python",
   "name": "python3"
  },
  "language_info": {
   "codemirror_mode": {
    "name": "ipython",
    "version": 3
   },
   "file_extension": ".py",
   "mimetype": "text/x-python",
   "name": "python",
   "nbconvert_exporter": "python",
   "pygments_lexer": "ipython3",
   "version": "3.9.12"
  },
  "orig_nbformat": 4,
  "vscode": {
   "interpreter": {
    "hash": "3e3768d205fda101700075f29ad3f6ddab5b864ac3d82600c1710cf5c8c23fd0"
   }
  }
 },
 "nbformat": 4,
 "nbformat_minor": 2
}
