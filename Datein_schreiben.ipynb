{
 "cells": [
  {
   "cell_type": "code",
   "execution_count": 4,
   "metadata": {},
   "outputs": [],
   "source": [
    "file = open(\"schreiben.txt\", \"w\")\n",
    "\n",
    "file.write(\"Bla 123\")\n",
    "file.close()"
   ]
  },
  {
   "cell_type": "code",
   "execution_count": 15,
   "metadata": {},
   "outputs": [
    {
     "name": "stdout",
     "output_type": "stream",
     "text": [
      "Max\n",
      "Monika\n",
      "Erik\n",
      "Claudia\n",
      "Susanne\n"
     ]
    }
   ],
   "source": [
    "file = open(\"schreiben.txt\",\"w\")\n",
    "\n",
    "students = [\"Max\", \"Monika\", \"Erik\", \"Claudia\", \"Susanne\"]\n",
    "\n",
    "for student in students:\n",
    "    file.write(student + \"\\n\")\n",
    "\n",
    "file.close()\n",
    "\n",
    "file = open(\"schreiben.txt\", \"r\") # Ab hier oeffnen wir das File und lassen uns ausgeben, was in das File geschrieben wurde\n",
    "for line in file:\n",
    "    print(line.strip())"
   ]
  },
  {
   "cell_type": "code",
   "execution_count": null,
   "metadata": {},
   "outputs": [],
   "source": []
  }
 ],
 "metadata": {
  "kernelspec": {
   "display_name": "Python 3.9.12 ('base')",
   "language": "python",
   "name": "python3"
  },
  "language_info": {
   "codemirror_mode": {
    "name": "ipython",
    "version": 3
   },
   "file_extension": ".py",
   "mimetype": "text/x-python",
   "name": "python",
   "nbconvert_exporter": "python",
   "pygments_lexer": "ipython3",
   "version": "3.9.12"
  },
  "orig_nbformat": 4,
  "vscode": {
   "interpreter": {
    "hash": "3e3768d205fda101700075f29ad3f6ddab5b864ac3d82600c1710cf5c8c23fd0"
   }
  }
 },
 "nbformat": 4,
 "nbformat_minor": 2
}
