{
 "cells": [
  {
   "cell_type": "code",
   "execution_count": 7,
   "metadata": {},
   "outputs": [
    {
     "name": "stdout",
     "output_type": "stream",
     "text": [
      "Hallo Welt 123!!!!\n",
      "\n",
      "----\n",
      "Ich bin eine weiter Zeile!\n",
      "\n",
      "----\n",
      "Das ist ein Test\n",
      "\n",
      "----\n",
      "bla\n",
      "\n",
      "----\n",
      "asd\n",
      "\n",
      "----\n"
     ]
    }
   ],
   "source": [
    "file = open(\"guckguck.txt\", \"r\")\n",
    "for line in file:\n",
    "    print(line)\n",
    "    print(\"----\")"
   ]
  },
  {
   "cell_type": "code",
   "execution_count": 8,
   "metadata": {},
   "outputs": [
    {
     "name": "stdout",
     "output_type": "stream",
     "text": [
      "Hallo Welt 123!!!!\n",
      "\n",
      "Ich bin eine weiter Zeile!\n",
      "\n",
      "Das ist ein Test\n",
      "\n",
      "bla\n",
      "\n",
      "asd\n",
      "\n"
     ]
    }
   ],
   "source": [
    "file = open(\"guckguck.txt\", \"r\")\n",
    "for line in file:\n",
    "    print(line)"
   ]
  },
  {
   "cell_type": "code",
   "execution_count": 20,
   "metadata": {},
   "outputs": [
    {
     "name": "stdout",
     "output_type": "stream",
     "text": [
      "Hallo\n",
      "\n",
      "Welt\n",
      "\n"
     ]
    }
   ],
   "source": [
    "print(\"Hallo\\n\") # \\n sorgt fuer einen Zeilenumbruch\n",
    "print(\"Welt\")\n",
    "print(line.strip()) # Zeilenumbrueche rausfiltern"
   ]
  },
  {
   "cell_type": "code",
   "execution_count": null,
   "metadata": {},
   "outputs": [],
   "source": []
  }
 ],
 "metadata": {
  "kernelspec": {
   "display_name": "Python 3.9.12 ('base')",
   "language": "python",
   "name": "python3"
  },
  "language_info": {
   "codemirror_mode": {
    "name": "ipython",
    "version": 3
   },
   "file_extension": ".py",
   "mimetype": "text/x-python",
   "name": "python",
   "nbconvert_exporter": "python",
   "pygments_lexer": "ipython3",
   "version": "3.9.12"
  },
  "orig_nbformat": 4,
  "vscode": {
   "interpreter": {
    "hash": "3e3768d205fda101700075f29ad3f6ddab5b864ac3d82600c1710cf5c8c23fd0"
   }
  }
 },
 "nbformat": 4,
 "nbformat_minor": 2
}
