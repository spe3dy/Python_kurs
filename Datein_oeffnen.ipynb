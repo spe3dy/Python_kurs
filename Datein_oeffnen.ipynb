{
 "cells": [
  {
   "cell_type": "code",
   "execution_count": 1,
   "metadata": {},
   "outputs": [
    {
     "name": "stdout",
     "output_type": "stream",
     "text": [
      "Outdoor Ausruestung,,,\n",
      "\n",
      ",Ausruestung,Preis,Url\n",
      "\n",
      ",,,\n",
      "\n",
      "Kleidung,,,\n",
      "\n",
      ",Hose,,\n",
      "\n",
      ",Handschuhe,\"14,99\",https://www.bw-online-shop.com/handschuhe-army-gloves.html\n",
      "\n",
      ",Schuhe,\"64,95\",https://www.bundeswehr-und-mehr.de/wanderschuhe-bergschuhe-outdoor-squad-stiefel-bw-schuhe_4997\n",
      "\n",
      ",,,\n",
      "\n",
      ",,,\n",
      "\n",
      "Transport,,,\n",
      "\n",
      ",Rucksack,\"44,9\",https://www.bw-online-shop.com/bw-kampfrucksack-gen-ii-molle.html\n",
      "\n",
      ",,,\n",
      "\n",
      ",,,\n",
      "\n",
      "Lampen,,,\n",
      "\n",
      ",Taschenlampe,\"69,95\",https://www.bundeswehr-und-mehr.de/camping-outdoor/orientierung-licht/lampen/ledlenser-taschenlampe-p-serie_5069\n",
      "\n",
      ",Lampe,\"44,95\",https://www.bw-online-shop.com/led-campinglaterne-spotlight.html\n",
      "\n",
      ",Stirnlampe,\"39,95\",https://www.bw-online-shop.com/led-kopflampe-nu35-dual-power.html\n",
      "\n",
      ",,,\n",
      "\n",
      ",,,\n",
      "\n",
      "Tools,,,\n",
      "\n",
      ",Messer,\"219,95\",https://www.knivesandtools.de/de/pt/-esee-knives-model-6-dark-earth-esee-6p-de-zytelscheide.htm\n",
      "\n",
      ",Paracord,\"9,99\",https://www.bw-online-shop.com/commando-seil-15-meter-9mm.html\n",
      "\n",
      ",Wasserfilter,\"27,95\",https://www.bundeswehr-und-mehr.de/camping-outdoor/verpflegung-besteck/trinkflaschen/paany-wasserfilter-mit-flasche_5277\n",
      "\n",
      ",Erste Hilfe Set,\"17,99\",https://www.bw-online-shop.com/first-aid-kit-large.html\n",
      "\n",
      ",Feuerstahl,\"5,95\",https://www.bundeswehr-und-mehr.de/ausruestung/kocher-lampen/esbitkocher/militaer-zuendstein-fire-steel_5232\n",
      "\n",
      ",Kochgeschier,\"24,95\",https://www.bundeswehr-und-mehr.de/original-bundeswehr-set-kochgeschirr-3-tlg-essbesteck-4-tlg-bw_4236\n",
      "\n",
      ",,,\n",
      "\n",
      "Uebernachtung,,,\n",
      "\n",
      ",,,\n",
      "\n",
      ",Tarp,\"24,95\",https://www.bundeswehr-und-mehr.de/ausruestung/tarnung/abdeckplanen/bw-mehrzweckplane-tarp_5030\n",
      "\n",
      ",Schlafsack,\"42,95\",https://www.bundeswehr-und-mehr.de/commando-schlafsack-mit-packsack_5024\n",
      "\n",
      ",Isomatte,\"29,95\",https://www.bundeswehr-und-mehr.de/ausruestung/schlafen-isomatten/isomatten/militaer-thermomatte-waffle-selbstaufblasend_5636\n",
      "\n",
      ",HÃ¤ngematte,\"79,99\",https://www.bw-online-shop.com/hangematte-moskito-traveller-forest.html\n",
      "\n",
      ",Kopfkissen,\"12,99\",https://www.bw-online-shop.com/kissen-selbstaufblasend.html\n",
      "\n",
      ",,,\n",
      "\n",
      ",,,\n",
      "\n",
      ",,,\n",
      "\n",
      ",Gesamt,\"777,3\",\n",
      "\n",
      ",,,\n",
      "\n",
      "Quellen,,,\n",
      "\n",
      ",https://www.bw-online-shop.com,,\n",
      "\n",
      ",https://www.bundeswehr-und-mehr.de,,\n",
      "\n",
      ",https://www.knivesandtools.de,,\n"
     ]
    }
   ],
   "source": [
    "file = open(\"Outdoor - Speedy.csv\", \"r\")\n",
    "for line in file:\n",
    "    print(line)"
   ]
  },
  {
   "cell_type": "code",
   "execution_count": null,
   "metadata": {},
   "outputs": [],
   "source": []
  }
 ],
 "metadata": {
  "kernelspec": {
   "display_name": "Python 3.9.12 ('base')",
   "language": "python",
   "name": "python3"
  },
  "language_info": {
   "codemirror_mode": {
    "name": "ipython",
    "version": 3
   },
   "file_extension": ".py",
   "mimetype": "text/x-python",
   "name": "python",
   "nbconvert_exporter": "python",
   "pygments_lexer": "ipython3",
   "version": "3.9.12"
  },
  "orig_nbformat": 4,
  "vscode": {
   "interpreter": {
    "hash": "3e3768d205fda101700075f29ad3f6ddab5b864ac3d82600c1710cf5c8c23fd0"
   }
  }
 },
 "nbformat": 4,
 "nbformat_minor": 2
}
