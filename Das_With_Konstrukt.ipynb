{
 "cells": [
  {
   "cell_type": "code",
   "execution_count": 5,
   "metadata": {},
   "outputs": [
    {
     "name": "stdout",
     "output_type": "stream",
     "text": [
      "Hallo Welt 123!!!!\n",
      "\n",
      "Ich bin eine weiter Zeile!\n",
      "\n",
      "Das ist ein Test\n",
      "\n",
      "bla\n",
      "\n",
      "asd\n",
      "\n"
     ]
    }
   ],
   "source": [
    "# Das with sorgt dafuer, dass auch bei Fehler, die Datei erstellt und geschrieben wird. Datei muss auch nicht geschlossen werden.\n",
    "with open(\"lesen.txt\", \"r\") as file:\n",
    "    for line in file:\n",
    "        print(line)"
   ]
  },
  {
   "cell_type": "code",
   "execution_count": null,
   "metadata": {},
   "outputs": [],
   "source": []
  }
 ],
 "metadata": {
  "kernelspec": {
   "display_name": "Python 3.9.12 ('base')",
   "language": "python",
   "name": "python3"
  },
  "language_info": {
   "codemirror_mode": {
    "name": "ipython",
    "version": 3
   },
   "file_extension": ".py",
   "mimetype": "text/x-python",
   "name": "python",
   "nbconvert_exporter": "python",
   "pygments_lexer": "ipython3",
   "version": "3.9.12"
  },
  "orig_nbformat": 4,
  "vscode": {
   "interpreter": {
    "hash": "3e3768d205fda101700075f29ad3f6ddab5b864ac3d82600c1710cf5c8c23fd0"
   }
  }
 },
 "nbformat": 4,
 "nbformat_minor": 2
}
